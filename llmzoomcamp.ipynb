{
 "cells": [
  {
   "cell_type": "code",
   "execution_count": 1,
   "id": "a051c78c-6900-49d5-b94d-d8a4842992c9",
   "metadata": {
    "execution": {
     "iopub.execute_input": "2024-06-26T10:07:45.716955Z",
     "iopub.status.busy": "2024-06-26T10:07:45.716586Z",
     "iopub.status.idle": "2024-06-26T10:07:47.062551Z",
     "shell.execute_reply": "2024-06-26T10:07:47.061767Z",
     "shell.execute_reply.started": "2024-06-26T10:07:45.716921Z"
    },
    "scrolled": true,
    "tags": []
   },
   "outputs": [
    {
     "name": "stdout",
     "output_type": "stream",
     "text": [
      "--2024-06-26 10:07:46--  https://raw.githubusercontent.com/alexeygrigorev/minsearch/main/minsearch.py\n",
      "Resolving raw.githubusercontent.com (raw.githubusercontent.com)... 185.199.110.133, 185.199.108.133, 185.199.111.133, ...\n",
      "Connecting to raw.githubusercontent.com (raw.githubusercontent.com)|185.199.110.133|:443... connected.\n",
      "HTTP request sent, awaiting response... 200 OK\n",
      "Length: 3832 (3.7K) [text/plain]\n",
      "Saving to: ‘minsearch.py’\n",
      "\n",
      "minsearch.py        100%[===================>]   3.74K  --.-KB/s    in 0s      \n",
      "\n",
      "2024-06-26 10:07:46 (77.2 MB/s) - ‘minsearch.py’ saved [3832/3832]\n",
      "\n"
     ]
    }
   ],
   "source": [
    "!rm -f minsearch.py\n",
    "!wget https://raw.githubusercontent.com/alexeygrigorev/minsearch/main/minsearch.py\n"
   ]
  },
  {
   "cell_type": "code",
   "execution_count": 6,
   "id": "5ed926c0-82d7-4ec1-a099-2d232a09e65e",
   "metadata": {
    "execution": {
     "iopub.execute_input": "2024-06-26T10:09:27.731985Z",
     "iopub.status.busy": "2024-06-26T10:09:27.731601Z",
     "iopub.status.idle": "2024-06-26T10:09:27.735783Z",
     "shell.execute_reply": "2024-06-26T10:09:27.734977Z",
     "shell.execute_reply.started": "2024-06-26T10:09:27.731959Z"
    },
    "tags": []
   },
   "outputs": [],
   "source": [
    "import os\n"
   ]
  },
  {
   "cell_type": "code",
   "execution_count": 7,
   "id": "6dd1b070-f7a5-440b-9a7b-c21fcb01898e",
   "metadata": {
    "execution": {
     "iopub.execute_input": "2024-06-26T10:10:15.256157Z",
     "iopub.status.busy": "2024-06-26T10:10:15.255746Z",
     "iopub.status.idle": "2024-06-26T10:10:15.262200Z",
     "shell.execute_reply": "2024-06-26T10:10:15.261286Z",
     "shell.execute_reply.started": "2024-06-26T10:10:15.256130Z"
    },
    "tags": []
   },
   "outputs": [
    {
     "data": {
      "text/plain": [
       "'hf_blablabla'"
      ]
     },
     "execution_count": 7,
     "metadata": {},
     "output_type": "execute_result"
    }
   ],
   "source": [
    "os.getenv('HF_TOKEN')"
   ]
  },
  {
   "cell_type": "code",
   "execution_count": 2,
   "id": "8add3ca2-cb84-4fd6-8e09-c43b0cd4b87c",
   "metadata": {
    "execution": {
     "iopub.execute_input": "2024-06-26T10:08:01.986539Z",
     "iopub.status.busy": "2024-06-26T10:08:01.986020Z",
     "iopub.status.idle": "2024-06-26T10:08:05.433425Z",
     "shell.execute_reply": "2024-06-26T10:08:05.432598Z",
     "shell.execute_reply.started": "2024-06-26T10:08:01.986506Z"
    },
    "tags": []
   },
   "outputs": [
    {
     "data": {
      "text/plain": [
       "<minsearch.Index at 0x7f154ebcf5e0>"
      ]
     },
     "execution_count": 2,
     "metadata": {},
     "output_type": "execute_result"
    }
   ],
   "source": [
    "import requests \n",
    "import minsearch\n",
    "\n",
    "docs_url = 'https://github.com/DataTalksClub/llm-zoomcamp/blob/main/01-intro/documents.json?raw=1'\n",
    "docs_response = requests.get(docs_url)\n",
    "documents_raw = docs_response.json()\n",
    "\n",
    "documents = []\n",
    "\n",
    "for course in documents_raw:\n",
    "    course_name = course['course']\n",
    "\n",
    "    for doc in course['documents']:\n",
    "        doc['course'] = course_name\n",
    "        documents.append(doc)\n",
    "\n",
    "index = minsearch.Index(\n",
    "    text_fields=[\"question\", \"text\", \"section\"],\n",
    "    keyword_fields=[\"course\"]\n",
    ")\n",
    "\n",
    "index.fit(documents)"
   ]
  },
  {
   "cell_type": "code",
   "execution_count": 3,
   "id": "e8f3411c-0382-4dfc-be9a-a71e20d40baa",
   "metadata": {
    "execution": {
     "iopub.execute_input": "2024-06-26T10:08:16.725501Z",
     "iopub.status.busy": "2024-06-26T10:08:16.724996Z",
     "iopub.status.idle": "2024-06-26T10:08:16.729957Z",
     "shell.execute_reply": "2024-06-26T10:08:16.729044Z",
     "shell.execute_reply.started": "2024-06-26T10:08:16.725473Z"
    },
    "tags": []
   },
   "outputs": [],
   "source": [
    "def search(query):\n",
    "    boost = {'question': 3.0, 'section': 0.5}\n",
    "\n",
    "    results = index.search(\n",
    "        query=query,\n",
    "        filter_dict={'course': 'data-engineering-zoomcamp'},\n",
    "        boost_dict=boost,\n",
    "        num_results=5\n",
    "    )\n",
    "\n",
    "    return results"
   ]
  },
  {
   "cell_type": "code",
   "execution_count": 4,
   "id": "110e15c0-4a6c-473e-8473-05d725aa2496",
   "metadata": {
    "execution": {
     "iopub.execute_input": "2024-06-26T10:08:33.570185Z",
     "iopub.status.busy": "2024-06-26T10:08:33.569790Z",
     "iopub.status.idle": "2024-06-26T10:08:33.575672Z",
     "shell.execute_reply": "2024-06-26T10:08:33.575049Z",
     "shell.execute_reply.started": "2024-06-26T10:08:33.570158Z"
    },
    "tags": []
   },
   "outputs": [],
   "source": [
    "def build_prompt(query, search_results):\n",
    "    prompt_template = \"\"\"\n",
    "You're a course teaching assistant. Answer the QUESTION based on the CONTEXT from the FAQ database.\n",
    "Use only the facts from the CONTEXT when answering the QUESTION.\n",
    "\n",
    "QUESTION: {question}\n",
    "\n",
    "CONTEXT: \n",
    "{context}\n",
    "\"\"\".strip()\n",
    "\n",
    "    context = \"\"\n",
    "    \n",
    "    for doc in search_results:\n",
    "        context = context + f\"section: {doc['section']}\\nquestion: {doc['question']}\\nanswer: {doc['text']}\\n\\n\"\n",
    "    \n",
    "    prompt = prompt_template.format(question=query, context=context).strip()\n",
    "    return prompt\n",
    "\n",
    "def llm(prompt):\n",
    "    response = client.chat.completions.create(\n",
    "        model='gpt-4o',\n",
    "        messages=[{\"role\": \"user\", \"content\": prompt}]\n",
    "    )\n",
    "    \n",
    "    return response.choices[0].message.content"
   ]
  },
  {
   "cell_type": "code",
   "execution_count": 5,
   "id": "a4ea9db6-f86e-4023-a933-1b9b3d4b2d47",
   "metadata": {
    "execution": {
     "iopub.execute_input": "2024-06-26T10:08:48.099756Z",
     "iopub.status.busy": "2024-06-26T10:08:48.099365Z",
     "iopub.status.idle": "2024-06-26T10:08:48.103484Z",
     "shell.execute_reply": "2024-06-26T10:08:48.102762Z",
     "shell.execute_reply.started": "2024-06-26T10:08:48.099729Z"
    },
    "tags": []
   },
   "outputs": [],
   "source": [
    "def rag(query):\n",
    "    search_results = search(query)\n",
    "    prompt = build_prompt(query, search_results)\n",
    "    answer = llm(prompt)\n",
    "    return answer"
   ]
  },
  {
   "cell_type": "code",
   "execution_count": 8,
   "id": "aa35e6ba-c5bd-4d9b-9670-730f306a19a8",
   "metadata": {
    "execution": {
     "iopub.execute_input": "2024-06-26T10:11:12.364442Z",
     "iopub.status.busy": "2024-06-26T10:11:12.364014Z",
     "iopub.status.idle": "2024-06-26T10:11:13.102081Z",
     "shell.execute_reply": "2024-06-26T10:11:13.101238Z",
     "shell.execute_reply.started": "2024-06-26T10:11:12.364416Z"
    },
    "tags": []
   },
   "outputs": [
    {
     "name": "stdout",
     "output_type": "stream",
     "text": [
      "Wed Jun 26 10:11:12 2024       \n",
      "+---------------------------------------------------------------------------------------+\n",
      "| NVIDIA-SMI 535.161.08             Driver Version: 535.161.08   CUDA Version: 12.2     |\n",
      "|-----------------------------------------+----------------------+----------------------+\n",
      "| GPU  Name                 Persistence-M | Bus-Id        Disp.A | Volatile Uncorr. ECC |\n",
      "| Fan  Temp   Perf          Pwr:Usage/Cap |         Memory-Usage | GPU-Util  Compute M. |\n",
      "|                                         |                      |               MIG M. |\n",
      "|=========================================+======================+======================|\n",
      "|   0  Tesla T4                       On  | 00000000:00:1E.0 Off |                    0 |\n",
      "| N/A   26C    P8               9W /  70W |      0MiB / 15360MiB |      0%      Default |\n",
      "|                                         |                      |                  N/A |\n",
      "+-----------------------------------------+----------------------+----------------------+\n",
      "                                                                                         \n",
      "+---------------------------------------------------------------------------------------+\n",
      "| Processes:                                                                            |\n",
      "|  GPU   GI   CI        PID   Type   Process name                            GPU Memory |\n",
      "|        ID   ID                                                             Usage      |\n",
      "|=======================================================================================|\n",
      "|  No running processes found                                                           |\n",
      "+---------------------------------------------------------------------------------------+\n"
     ]
    }
   ],
   "source": [
    "!nvidia-smi"
   ]
  },
  {
   "cell_type": "code",
   "execution_count": null,
   "id": "50455995-9861-453e-ab77-a7df0405e670",
   "metadata": {},
   "outputs": [],
   "source": []
  }
 ],
 "metadata": {
  "kernelspec": {
   "display_name": "saturn (Python 3)",
   "language": "python",
   "name": "python3"
  },
  "language_info": {
   "codemirror_mode": {
    "name": "ipython",
    "version": 3
   },
   "file_extension": ".py",
   "mimetype": "text/x-python",
   "name": "python",
   "nbconvert_exporter": "python",
   "pygments_lexer": "ipython3",
   "version": "3.9.18"
  },
  "widgets": {
   "application/vnd.jupyter.widget-state+json": {
    "state": {},
    "version_major": 2,
    "version_minor": 0
   }
  }
 },
 "nbformat": 4,
 "nbformat_minor": 5
}
